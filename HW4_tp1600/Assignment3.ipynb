{
 "cells": [
  {
   "cell_type": "code",
   "execution_count": 1,
   "metadata": {},
   "outputs": [
    {
     "name": "stdout",
     "output_type": "stream",
     "text": [
      "Populating the interactive namespace from numpy and matplotlib\n"
     ]
    }
   ],
   "source": [
    "from __future__  import print_function, division\n",
    "import pylab as pl\n",
    "import pandas as pd\n",
    "import numpy as np\n",
    "import os\n",
    "\n",
    "%pylab inline\n",
    "\n",
    "if os.getenv ('PUI2016') is None:\n",
    "    print (\"Must set env variable PUI2016\")\n",
    "if os.getenv ('PUIDATA') is None:\n",
    "    print (\"Must set env variable PUI2016\")\n",
    "\n",
    "import os\n",
    "import json"
   ]
  },
  {
   "cell_type": "markdown",
   "metadata": {},
   "source": [
    "# Homework 4 Assignment 3\n",
    "\n",
    "Determine if the new bus route is improving commute\n",
    "\n",
    "Null Hypothesis (H0):\n",
    "Average commute times now (TN) are the same or longer since instituting the new bus route then they were prior to (T0) with a significance level of .05.\n",
    "\n",
    "H0: TN-T0>=0\n",
    "\n",
    "Alternative Hypothesis (H1): \n",
    "Average commute times now (TN) are significantly shorter since instituting the new bus route then they were prior to (T0) with a significance level of .05.\n",
    "\n",
    "H1: TN-T0<0"
   ]
  },
  {
   "cell_type": "code",
   "execution_count": 2,
   "metadata": {},
   "outputs": [],
   "source": [
    "#write out the defined population statistics\n",
    "mean_pop=36\n",
    "sd_pop=6"
   ]
  },
  {
   "cell_type": "code",
   "execution_count": 13,
   "metadata": {},
   "outputs": [],
   "source": [
    "#read in the new data of 100 measured time values\n",
    "measurements=pd.read_csv(os.getenv(\"PUIDATA\")+\"/times.txt\", header=None, names=['times'])\n",
    "N=len(measurements)"
   ]
  },
  {
   "cell_type": "code",
   "execution_count": 16,
   "metadata": {},
   "outputs": [],
   "source": [
    "#take the mean of the data\n",
    "mean_sample=measurements.times.mean()"
   ]
  },
  {
   "cell_type": "code",
   "execution_count": 18,
   "metadata": {},
   "outputs": [
    {
     "name": "stdout",
     "output_type": "stream",
     "text": [
      "2.55639718617\n"
     ]
    }
   ],
   "source": [
    "#calculate the Z-test\n",
    "z=(mean_pop-mean_sample)/((sd_pop)/sqrt(N))\n",
    "print(z)"
   ]
  },
  {
   "cell_type": "markdown",
   "metadata": {},
   "source": [
    "# Results\n",
    "\n",
    "THe Z score is 2.6, indicating that this result is 2.6 sigmas from the original mean. Therefore we can reject the NULL hypothesis that the average commute is the same or slower in favor of the alternative hypothesis with a confidence of over 95%. This means that we can be over 95% confident that there is a significant improvement in commute times given the new bus X8. \n"
   ]
  }
 ],
 "metadata": {
  "kernelspec": {
   "display_name": "PUI2016_Python3",
   "language": "python",
   "name": "pui2016_python3"
  },
  "language_info": {
   "codemirror_mode": {
    "name": "ipython",
    "version": 3
   },
   "file_extension": ".py",
   "mimetype": "text/x-python",
   "name": "python",
   "nbconvert_exporter": "python",
   "pygments_lexer": "ipython3",
   "version": "3.5.4"
  }
 },
 "nbformat": 4,
 "nbformat_minor": 2
}
