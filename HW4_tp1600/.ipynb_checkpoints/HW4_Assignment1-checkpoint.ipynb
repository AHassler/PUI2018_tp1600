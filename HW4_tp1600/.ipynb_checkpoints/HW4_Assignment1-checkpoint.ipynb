{
 "cells": [
  {
   "cell_type": "markdown",
   "metadata": {},
   "source": [
    " Written by Federica B. Bianco @fedhere\n",
    " NYU CUSP PUI\n",
    "\n",
    " Assignment 1 Homework 4\n",
    "\n",
    " This is a skeleton & instruction notebook\n",
    "\n",
    "-  GENERATE  100 samples of different sizes N (N>10 & N<2000) from each of 5 different distributions (500 samples in total), \n",
    " _all with the same population mean_. Include a _Normal_, a _Poisson_, a _Binomial_, a _Chi-Squared_ distribution, and 1 more of your choice.                                       \n",
    "-  For each sample plot the sample mean (dependent var.) against the sample size N (independent var.) (if you want you can do it with the sample standard deviation as well). \n",
    "-  Describe the behavior you see in the plots in terms of the law of large numbers.\n",
    "-  PLOT the distributions of all sample means (together for all distributions). _Mandatory_: as a histogram. _Optional_: in any other way you think is convincing\n",
    " Extra Credit: FIT a gaussian to the distribution of means            "
   ]
  },
  {
   "cell_type": "code",
   "execution_count": 2,
   "metadata": {},
   "outputs": [
    {
     "name": "stdout",
     "output_type": "stream",
     "text": [
      "Populating the interactive namespace from numpy and matplotlib\n"
     ]
    },
    {
     "name": "stderr",
     "output_type": "stream",
     "text": [
      "/usr/local/Anaconda3-5.0.0-Linux-x86_64/envs/PUI2016_Python3/lib/python3.5/site-packages/IPython/html.py:14: ShimWarning: The `IPython.html` package has been deprecated. You should import from `notebook` instead. `IPython.html.widgets` has moved to `ipywidgets`.\n",
      "  \"`IPython.html.widgets` has moved to `ipywidgets`.\", ShimWarning)\n"
     ]
    }
   ],
   "source": [
    "from __future__ import print_function\n",
    "__author__= 'fbb'\n",
    "\n",
    "import pylab as pl\n",
    "# this package sets up pretty plots\n",
    "import seaborn\n",
    "from scipy.optimize import curve_fit, minimize\n",
    "    \n",
    "%pylab inline"
   ]
  },
  {
   "cell_type": "markdown",
   "metadata": {},
   "source": [
    "## choose which distributions to use "
   ]
  },
  {
   "cell_type": "code",
   "execution_count": 2,
   "metadata": {},
   "outputs": [],
   "source": [
    "#distributions = ['pois', 'gaus', 'chisq', 'cauchy', 'lnorm', 'binomial']\n",
    "distributions = ['chisq']\n"
   ]
  },
  {
   "cell_type": "markdown",
   "metadata": {
    "collapsed": true
   },
   "source": [
    "## and which mean to give it"
   ]
  },
  {
   "cell_type": "code",
   "execution_count": 3,
   "metadata": {},
   "outputs": [],
   "source": [
    "mymean = 100"
   ]
  },
  {
   "cell_type": "markdown",
   "metadata": {},
   "source": [
    "# Let's see what this distribution looks like, what is the PDF, and how are the moments defined. Wikipedia is great for this! \n",
    "\n",
    "![1](chisq1.png)\n",
    "\n",
    "![2](chisq2.png)"
   ]
  },
  {
   "cell_type": "markdown",
   "metadata": {},
   "source": [
    "# Then lets look at the numpy random sampling package to see how I create the distribution\n",
    "http://docs.scipy.org/doc/numpy/reference/routines.random.html\n",
    "http://docs.scipy.org/doc/numpy/reference/generated/numpy.random.chisquare.html#numpy.random.chisquare\n",
    "\n"
   ]
  },
  {
   "cell_type": "code",
   "execution_count": 4,
   "metadata": {},
   "outputs": [],
   "source": [
    "# the chi sq distribution takes the number of degrees of freedom, which luckily is the same as the mean!\n",
    "df = mymean"
   ]
  },
  {
   "cell_type": "markdown",
   "metadata": {},
   "source": [
    "## I am making a dictionary to host the distributions.\n",
    "\n",
    "that is only one possible option. with a dictionary I can easily inspect the distribution I want by its name: it is a very human friendly data storage. In this example I am only using a single distribution, so for me it is overkill, but if I were doing the whole exercise with 5 or 6 distributions it would be useful!\n",
    "\n",
    "Lets start by looking at a single chi sq distribution"
   ]
  },
  {
   "cell_type": "code",
   "execution_count": 5,
   "metadata": {},
   "outputs": [
    {
     "data": {
      "text/plain": [
       "Text(0.5,0,'x')"
      ]
     },
     "execution_count": 5,
     "metadata": {},
     "output_type": "execute_result"
    },
    {
     "name": "stderr",
     "output_type": "stream",
     "text": [
      "/usr/local/Anaconda3-5.0.0-Linux-x86_64/envs/PUI2016_Python3/lib/python3.5/site-packages/matplotlib/font_manager.py:1316: UserWarning: findfont: Font family ['sans-serif'] not found. Falling back to DejaVu Sans\n",
      "  (prop.get_family(), self.defaultFamily[fontext]))\n"
     ]
    },
    {
     "data": {
      "image/png": "[encoded data removed]",
      "text/plain": [
       "<matplotlib.figure.Figure at 0x7f8ee3a5e8d0>"
      ]
     },
     "metadata": {},
     "output_type": "display_data"
    }
   ],
   "source": [
    "# Note: I am adding imports here, to show the workflow: \n",
    "# at this point I realize what packages I need and I import them. \n",
    "# but this is a PEP8 violation. \n",
    "# It is a good habit to put the includes at the top \n",
    "# so the code fails right away if the packages are missing. \n",
    "# Otherwise a user may have a piece of code running for a long time, \n",
    "# and then fail when the package cannot be imported... \n",
    "# (unless they are only imported under conditions, e.g. in an if statement)\n",
    "\n",
    "import numpy as np\n",
    "md = {}\n",
    "# md is an empty disctionary\n",
    "md['chisq'] = np.random.chisquare(df, size=100)\n",
    "# md now is a dictionary with one object: an array by the key 'chisq'\n",
    "pl.hist(md['chisq'], bins = 30)\n",
    "pl.ylabel('N')\n",
    "pl.xlabel('x')"
   ]
  },
  {
   "cell_type": "markdown",
   "metadata": {},
   "source": [
    "### Figure 1: Chi sq distribution: df = 100, N=100"
   ]
  },
  {
   "cell_type": "markdown",
   "metadata": {},
   "source": [
    "## let numpy calculate what the mean and stdev of this distribution are"
   ]
  },
  {
   "cell_type": "code",
   "execution_count": 6,
   "metadata": {},
   "outputs": [
    {
     "name": "stdout",
     "output_type": "stream",
     "text": [
      "Chisq mean: 101.11, standard deviation: 15.58\n"
     ]
    }
   ],
   "source": [
    "print (\"Chisq mean: %.2f, standard deviation: %.2f\"%(md['chisq'].mean(), md['chisq'].std()))"
   ]
  },
  {
   "cell_type": "markdown",
   "metadata": {},
   "source": [
    "## Now let's do it for 100 Chisq distributions\n",
    "we want distributions of different sizes (all integers between 10 and 2000)"
   ]
  },
  {
   "cell_type": "code",
   "execution_count": 7,
   "metadata": {},
   "outputs": [
    {
     "name": "stdout",
     "output_type": "stream",
     "text": [
      "[2000 1000  666  500  400  333  285  250  222  200  181  166  153  142  133\n",
      "  125  117  111  105  100   95   90   86   83   80   76   74   71   68   66\n",
      "   64   62   60   58   57   55   54   52   51   50   48   47   46   45   44\n",
      "   43   42   41   40   40   39   38   37   37   36   35   35   34   33   33\n",
      "   32   32   31   31   30   30   29   29   28   28   28   27   27   27   26\n",
      "   26   25   25   25   25   24   24   24   23   23   23   22   22   22   22\n",
      "   21   21   21   21   21   20   20   20   20] (99,)\n"
     ]
    }
   ],
   "source": [
    "mysize = (2000 / (np.array(range(1, 100)))).astype(int)\n",
    "# mysize = 1000 / (np.array(range(1, 100) + [10]))\n",
    "# mysize = (np.random.rand(100) * 1000).astype(int)\n",
    "print (mysize, mysize.shape)"
   ]
  },
  {
   "cell_type": "code",
   "execution_count": 8,
   "metadata": {},
   "outputs": [
    {
     "name": "stderr",
     "output_type": "stream",
     "text": [
      "/usr/local/Anaconda3-5.0.0-Linux-x86_64/envs/PUI2016_Python3/lib/python3.5/site-packages/matplotlib/font_manager.py:1316: UserWarning: findfont: Font family ['sans-serif'] not found. Falling back to DejaVu Sans\n",
      "  (prop.get_family(), self.defaultFamily[fontext]))\n"
     ]
    },
    {
     "data": {
      "image/png": "[encoded data removed]",
      "text/plain": [
       "<matplotlib.figure.Figure at 0x7f8ee56053c8>"
      ]
     },
     "metadata": {},
     "output_type": "display_data"
    }
   ],
   "source": [
    "# I am gonna overwrite the disctionary entry created into a nested dictionary \n",
    "# the outside dictionary hosts the distributions as dictionary, \n",
    "# and each distribution dictionary contains the 100 distribution (arrays of diferent sizes)\n",
    "\n",
    "md['chisq'] = {} \n",
    "\n",
    "#and do it in a for loop. not pythonic, but easily readable\n",
    "\n",
    "for n in mysize:\n",
    "    md['chisq'][n] = np.random.chisquare(df, size = n)\n",
    "    \n",
    "# save the means for plotting later    \n",
    "\n",
    "md['chisq']['means'] = {}\n",
    "axchisq_mu_n = pl.figure(figsize=(10,6)).add_subplot(111)\n",
    "\n",
    "for nn in md['chisq']:\n",
    "    if not type(nn) == str:\n",
    "        md['chisq']['means'][nn] = md['chisq'][nn].mean()\n",
    "        #and plot it\n",
    "        axchisq_mu_n.plot(nn, md['chisq']['means'][nn], 'o')\n",
    "        axchisq_mu_n.set_xlabel('sample size', fontsize=18)\n",
    "        axchisq_mu_n.set_ylabel('sample mean', fontsize=18)\n",
    "        axchisq_mu_n.set_title('Chi squared', fontsize=18)\n",
    "        axchisq_mu_n.plot([min(mysize), max(mysize)], [df, df], 'k')"
   ]
  },
  {
   "cell_type": "markdown",
   "metadata": {},
   "source": [
    "### Figure 2: [describe what you see and how it relates to the law of large numbers]"
   ]
  },
  {
   "cell_type": "markdown",
   "metadata": {},
   "source": [
    "# now the histogram of the mean of all samples: \n",
    "## this requires some data wrangling, since i put the data in a dictionary which is a user friendly data structure, but perhaps not the most machine friendly one\n",
    "\n",
    "a coder friendly, though not terribly pythonic way to do it is to append each mean in a list in a for loop, and then hist that. be careful: if your data size gets large this becomes a very bad idea!!"
   ]
  },
  {
   "cell_type": "code",
   "execution_count": 9,
   "metadata": {},
   "outputs": [
    {
     "data": {
      "text/plain": [
       "Text(0,0.5,'N')"
      ]
     },
     "execution_count": 9,
     "metadata": {},
     "output_type": "execute_result"
    },
    {
     "name": "stderr",
     "output_type": "stream",
     "text": [
      "/usr/local/Anaconda3-5.0.0-Linux-x86_64/envs/PUI2016_Python3/lib/python3.5/site-packages/matplotlib/font_manager.py:1316: UserWarning: findfont: Font family ['sans-serif'] not found. Falling back to DejaVu Sans\n",
      "  (prop.get_family(), self.defaultFamily[fontext]))\n"
     ]
    },
    {
     "data": {
      "image/png": "[encoded data removed]",
      "text/plain": [
       "<matplotlib.figure.Figure at 0x7f8ee492eeb8>"
      ]
     },
     "metadata": {},
     "output_type": "display_data"
    }
   ],
   "source": [
    "allmeans = list(md['chisq']['means'].values())\n",
    "\n",
    "pl.figure(figsize=(10, 10))\n",
    "pl.hist(allmeans,bins=30)\n",
    "pl.xlabel('sample mean', fontsize = 18)\n",
    "pl.ylabel('N', fontsize = 18)"
   ]
  },
  {
   "cell_type": "markdown",
   "metadata": {},
   "source": [
    "## Figure 3: [...]"
   ]
  },
  {
   "cell_type": "markdown",
   "metadata": {
    "collapsed": true
   },
   "source": [
    "# Do it for the Normal distribution\n"
   ]
  },
  {
   "cell_type": "code",
   "execution_count": 4,
   "metadata": {},
   "outputs": [],
   "source": [
    "#set seed and mean for analysis\n",
    "np.random.seed(1988)\n",
    "mean=88"
   ]
  },
  {
   "cell_type": "code",
   "execution_count": 5,
   "metadata": {},
   "outputs": [],
   "source": [
    "##define 100 random samples of values from a normal distribution with mean 88 and st dev 8\n",
    "norm_container=[]\n",
    "\n",
    "for i in range(100):\n",
    "    size=int(np.random.rand()*1990+10)\n",
    "    norm= np.random.normal(loc=mean, scale=8, size=size)\n",
    "    norm_container.append(norm)"
   ]
  },
  {
   "cell_type": "code",
   "execution_count": 15,
   "metadata": {},
   "outputs": [
    {
     "data": {
      "text/plain": [
       "array([  95.47398939,  104.41178515,   91.86736205,  101.5524782 ,\n",
       "         99.09529264,   86.31101291,   85.52818097,   83.83117187,\n",
       "         93.63770251,   79.78706708,   77.88334983,   93.71402909,\n",
       "         80.67108152,   88.10566633,   81.97117831,  109.0609481 ,\n",
       "         81.00237015,   82.90277275,   98.16312769,   82.18632149,\n",
       "         85.16864535,   89.73423364,   84.87098613,   82.45598922,\n",
       "         71.62989246,   83.50317941,   90.0035936 ,   87.49907041,\n",
       "         80.08133825,   74.29480515,   87.05365257,  105.62582979,\n",
       "         84.56611017,   82.91905911,   90.7245546 ,   80.83549152,\n",
       "         94.66463199,   84.54767441,   76.72941088,  100.28072126,\n",
       "         81.62770251,   85.72191565,   87.74990713,   72.98376521,\n",
       "         80.8325634 ,   88.96309272,   96.3743185 ,   90.06853707,\n",
       "         84.61527078,   92.79858832,   95.06574474,  100.10884798,\n",
       "         83.3337107 ,  100.98911016,   88.69785376,   81.98243672,\n",
       "         79.71203278,   87.36544084,   93.10583916,   92.04532634,\n",
       "         76.37535948,   76.25296896,   83.1104889 ,   81.83866669,\n",
       "         76.58723293,   92.39723415,   91.31523908,  101.28343446,\n",
       "         83.57155158,   79.23232478,   80.08553689,   83.43841976,\n",
       "         87.30735314,   71.69673295,   76.14442146,   83.74093586,\n",
       "        100.92730213,   81.02092006,   80.42203433,   84.3140754 ,\n",
       "         92.21870279,   78.64567175,   81.74090504,   96.40488237,\n",
       "         89.87216515,   85.04937591,   93.47599361,   74.91801696,\n",
       "         79.35846759,   71.80084617,   81.19263672,   71.25205968,\n",
       "         86.33044511,   74.2315944 ,  104.20538004,   90.34562332,\n",
       "         92.21781846,   91.29481367,   74.70902034,   75.01435542,\n",
       "         88.64882623,   89.75757741,   86.00909435,   73.14594062,\n",
       "         79.82476291,   87.31564599,   87.19062252,   81.11585045,\n",
       "         83.77325212,  102.84999115,   83.87558936,   86.88800136,\n",
       "         82.74356707,   82.20982519,  100.28841883,   89.41701831,\n",
       "         81.948916  ,   87.43687732,   91.92367831,   91.15763472,\n",
       "         91.92395366,   85.09672693,   96.57197771,   97.20534861,\n",
       "         78.02084487,   72.76195764,   93.70779288,   83.44370068,\n",
       "         93.63382437,   76.74387278,   77.73215382,   93.11363215,\n",
       "         92.20365585,  100.29120468,   89.55754205,   91.40860764,\n",
       "         90.44853349,   88.57928784,   80.68352744,   90.44373778,\n",
       "         84.40677893,   87.04414607,   94.56497997,  111.17229185,\n",
       "         88.65978436,   74.98840503,   87.36943194,   88.80788402,\n",
       "         87.87734148,   82.69825771,   73.52873467,   84.91177135,\n",
       "        104.84572072,   87.57168178,   96.40074876,   90.62126694,\n",
       "         85.2061226 ,   83.52177074,   92.00766626,   96.16456951,\n",
       "         99.7351523 ,   97.53753701,   72.35748955,   92.04085331,\n",
       "         83.36914161,   92.18374595,   94.65866061,   79.88691289,\n",
       "         87.40286881,   76.25468792,   89.15265213,   78.32347916,\n",
       "         87.30826245,   83.76276407,   88.57617513,   77.48713788,\n",
       "         76.6346153 ,   74.082694  ,   87.2458082 ,   83.94689517,\n",
       "         87.46473634,   78.91959542,   86.05051486,   82.51579091,\n",
       "        104.79649603,   72.22560288,   90.09373874,   87.94125995,\n",
       "         99.62463384,   88.23696465,   84.58920938,   82.6910689 ,\n",
       "        108.17479948,   92.3313025 ,   77.17005678,   90.02149356,\n",
       "         85.57941182,   88.36397701,   90.74146907,   89.74097829,\n",
       "         82.97694334,   72.73249868,   86.80085985,   84.66228679,\n",
       "         91.81265951,   84.44376194,   86.29407509,   84.68531423,\n",
       "         95.92665053,   83.8162554 ,   93.65663297,   72.884322  ,\n",
       "         94.40371268,   81.96451977,   80.74019155,   88.82621251,\n",
       "         99.40862588,   85.42423331,   94.38408934,   88.95305039,\n",
       "         72.80056259,   87.35961924,   87.59770279,   81.73119495,\n",
       "         84.02443394,   82.11696661,   83.18704412,  100.36261472,\n",
       "         90.51161369,   98.89255871,   80.06011545,   93.95845836,\n",
       "         86.47286858,   82.81058101,   88.00333057,   86.75749649,\n",
       "         95.52105416,   89.24502012,   93.1157651 ,   96.31564166,\n",
       "         84.2359264 ,   84.21061689,   83.96953177,   85.74012334,\n",
       "         83.95238566,   89.79489449,   84.66246669,   82.1996845 ,\n",
       "         84.0199094 ,  101.40692589,   86.55593217,  100.09836964,\n",
       "         80.94471311,   75.45875865,   75.85396769,   87.38782168,\n",
       "         80.98160434,   74.8500586 ,   90.94529255,   92.75900069,\n",
       "         88.08932826,   89.51383926,   88.18911266,   88.73915847,\n",
       "         89.64594015,   83.38395789,   75.69545127,   89.83786399,\n",
       "         74.23313289,   84.85356591,   98.32939455,   80.99313995,\n",
       "         83.30612651,   83.3518674 ,   63.97306019,   74.47199295,\n",
       "         70.5993701 ,   94.13395447,   82.2301579 ,   99.83099133,\n",
       "        105.7004043 ,   81.96387467,   89.49700681,   98.18264073,\n",
       "         83.21170034,   90.40222446,   84.09315327,   84.44756394,\n",
       "         87.73396204,   97.04771341,   89.52584027,   78.50995592,\n",
       "         84.12674758,  102.3644412 ,   91.92513196,   87.09443189,\n",
       "        101.82214513,   81.10431398,   85.59690566,   84.51987088,\n",
       "         82.67984804,   83.96186854,   93.36780718,   95.03500082,\n",
       "         96.24870217,   87.14460276,   83.10956925,   83.39257075,\n",
       "         82.8249679 ,   88.82709671,   87.72537648,  100.92472392,\n",
       "         82.56703993,   88.61855045,   73.42357694,  109.92008771,\n",
       "         79.66938409,   88.82040406,   82.79253687,  102.6909888 ,\n",
       "         98.50285551,   98.18542946,   91.22812095,   96.34345273,\n",
       "         94.70633354,   90.00257886,   98.83189342,   93.20560151,\n",
       "         78.74064858,   85.38055135,   94.81257399,   87.38543655,\n",
       "         98.52889737,   95.49705002,   85.51961927,   77.17185904,\n",
       "         92.45252919,   87.75171563,   90.75222027,   71.52961742,\n",
       "         94.22266169,   79.14227325,   79.69909878,   84.20312788,\n",
       "         86.12116937,   90.81737862,   91.40022512,   81.06376722,\n",
       "         80.73194616,   97.28199155,   99.35394759,   78.3442832 ,\n",
       "         80.60956857,   82.2715902 ,   93.13577949,   87.91755765,\n",
       "         90.60806747,   71.81417251,   97.27951679,   72.82606353,\n",
       "         93.49477398,   78.39403547,   96.67411669,   86.46114224,\n",
       "         84.36548559,   83.36345915,   71.43037832,   96.82605123,\n",
       "         79.32375007,   98.44793016,  103.23342589,   88.84637979,\n",
       "         78.60414014,   99.01728154,   90.14840718,   73.87973272,\n",
       "         89.42873755,   84.90203027,   92.44481317,   74.01948437,\n",
       "         88.49676474,   78.68883773,   89.74974205,   90.87377163,\n",
       "         83.46419488,   79.32639283,   86.07445937,   89.36827014,\n",
       "         76.01628362,   73.83294434,   88.39075688,   72.00998743,\n",
       "         87.36148338,   69.20037134,  100.55389638,   80.85245078,\n",
       "         97.82429572,   89.64243973,   84.63999435,   96.5992284 ,\n",
       "         97.91346795,   85.30976568,   85.72909471,   79.37796113,\n",
       "         93.67488307,   92.71651138,   75.66351264,   90.09171252,\n",
       "        106.78680999,   89.10925705,   76.60758166,   99.76249706,\n",
       "        101.15757715,   77.92530962,   80.11287315,  101.51997802,\n",
       "         82.87441439,   84.79492857,   89.64642595,   91.23361412,\n",
       "         80.64273331,   87.64718816,   90.69307819,   85.13917254,\n",
       "         75.79828441,   76.75952532,   77.24575591,   90.22229598,\n",
       "         74.48305174,   93.60144523,   82.19248846,   85.49507844,\n",
       "         80.70941641,   81.47390338,   86.07475819,   87.91410693,\n",
       "         92.96371737,   86.79369758,   91.11072282,   75.6010987 ,\n",
       "         87.73448238,   90.04937261,   86.52444018,   86.15002234,\n",
       "         91.07825634,   77.90103645,   84.95108096,   77.86704374,\n",
       "         82.95141094,   90.37384304,   92.34155216,   86.40213517,\n",
       "         73.15860124,   90.14110682,   83.71577047,   95.0066766 ,\n",
       "         82.95102461,   80.22624154,   85.41440039,   82.97683818,\n",
       "         84.41115268,   80.94147347,   72.21932679,   90.05335426,\n",
       "         95.39467158,   79.61355561,   84.91557671,   86.13760655,\n",
       "        101.99295819,   90.68940921,   76.55357292,   91.33921816,\n",
       "         89.90614119,   80.37215872,   74.37640626,   85.84690885,\n",
       "         86.03764196,   86.26084576,  103.37848551,   92.64026769,\n",
       "         91.6954441 ,   86.16089604,   88.71540261,  103.63883338,\n",
       "         77.96746892,   99.54052669,  101.55515794,   90.94838866,\n",
       "         77.55792052,   96.73841528,   96.25651383,   93.93628178,\n",
       "         99.47268356,   79.76875409,   95.29839221,   87.64445187,\n",
       "         88.03583175,   83.4761538 ,   79.57254385,   81.94449958,\n",
       "         75.96848494,   95.65106641,   87.09604423,   84.66690944,\n",
       "         78.85058123,   89.95050099,   95.24111713,   81.60443836,\n",
       "         85.08812965,   83.70858671,   87.38400645,   77.31363079,\n",
       "         82.91021114,   83.27083027,   89.5681437 ,   81.42220607,\n",
       "         71.0929724 ,   90.24894352,   98.38197603,   88.01326344,\n",
       "         85.56924259,   70.36392998,   83.94293044,   98.10522975,\n",
       "         78.61851571,   96.23543329,   89.2277761 ,   68.99627595,\n",
       "         90.57270543,   75.79363707,   82.02432004,   81.88117128,\n",
       "         99.19300557,   77.96977045,   85.59360531,   90.07980491,\n",
       "         86.96705533,   98.89851192,   83.8382313 ,  100.29243433,\n",
       "         86.88459439,   96.56074857,   80.26669397,   84.59266968,\n",
       "         93.82812332,   91.51915369,  102.85668262,   92.97869703,\n",
       "         67.42319072,   85.92274093,   89.66815146,   76.56937265,\n",
       "         71.87308125,   89.94144334,   89.34243864,   83.08112964,\n",
       "         75.66088782,  104.38739741,  102.06339695,   68.98230809,\n",
       "         89.94488123,   89.30692177,   95.4801207 ,   89.77966978,\n",
       "         86.59445387,   88.46419777,  102.27995799,   73.60465043,\n",
       "         92.48757231,   80.17537981,   89.33126333,   83.42462764,\n",
       "         91.48329363,   85.5239698 ,   75.59853007,   90.86445678,\n",
       "         85.57639471,   84.7734978 ,   88.70893722,   73.49625747,\n",
       "         89.3130883 ,   92.05909959,   74.84774819,   85.82533216,\n",
       "         83.40515737,   88.53999839,   98.71476495,   90.12475513,\n",
       "         86.25898894,   78.65865173,  104.72096735,   80.83096366,\n",
       "         73.94022774,   92.83971867,   89.20406662,   88.37176628,\n",
       "         93.62915718,   88.98209926,   75.92617633])"
      ]
     },
     "execution_count": 15,
     "metadata": {},
     "output_type": "execute_result"
    }
   ],
   "source": [
    "norm_container[2]"
   ]
  },
  {
   "cell_type": "code",
   "execution_count": 18,
   "metadata": {},
   "outputs": [],
   "source": [
    "#add means of all samples to a list\n",
    "norm_means=[]\n",
    "\n",
    "for n in range(len(norm_container)):\n",
    "    norm_means.append(norm_container[n].mean())"
   ]
  },
  {
   "cell_type": "code",
   "execution_count": 28,
   "metadata": {},
   "outputs": [
    {
     "data": {
      "text/plain": [
       "Text(0.5,1,'Sample Mean vs Sample Size')"
      ]
     },
     "execution_count": 28,
     "metadata": {},
     "output_type": "execute_result"
    },
    {
     "name": "stderr",
     "output_type": "stream",
     "text": [
      "/usr/local/Anaconda3-5.0.0-Linux-x86_64/envs/PUI2016_Python3/lib/python3.5/site-packages/matplotlib/font_manager.py:1316: UserWarning: findfont: Font family ['sans-serif'] not found. Falling back to DejaVu Sans\n",
      "  (prop.get_family(), self.defaultFamily[fontext]))\n"
     ]
    },
    {
     "data": {
      "image/png": "[encoded data removed]",
      "text/plain": [
       "<matplotlib.figure.Figure at 0x7f51d2eb86d8>"
      ]
     },
     "metadata": {},
     "output_type": "display_data"
    }
   ],
   "source": [
    "#create an axis object\n",
    "ax=pl.figure().add_subplot(111)\n",
    "\n",
    "#calculate the mean for all of the members of the list\n",
    "for n in norm_container:\n",
    "    ax.plot(len(n),n.mean(), '.')\n",
    "    ax.plot([0,2000], [88,88], '-')\n",
    "ax.set_ylabel('sample mean', fontsize = 12)\n",
    "ax.set_xlabel('N', fontsize = 12)\n",
    "ax.set_title('Sample Mean vs Sample Size', fontsize=20)"
   ]
  },
  {
   "cell_type": "markdown",
   "metadata": {},
   "source": [
    "Figure 1: Above is a scatter plot of sample means for 100 samples of sizes between 10 and 2000 from a normal distribution with mean 88 and standard deviation of 8 plotted against the sample size. You can see that as the sample size increases, the mean grows closer to the true population mean-- as explained in the Central Limit Theorem."
   ]
  },
  {
   "cell_type": "code",
   "execution_count": 29,
   "metadata": {},
   "outputs": [],
   "source": [
    "#pl.figure(figsize=(10, 10))\n",
    "#pl.hist(norm_means)\n",
    "#pl.xlabel('sample mean', fontsize = 18)\n",
    "#pl.ylabel('N', fontsize = 18)"
   ]
  },
  {
   "cell_type": "markdown",
   "metadata": {
    "collapsed": true
   },
   "source": [
    "# Do it for the Poisson distribution"
   ]
  },
  {
   "cell_type": "code",
   "execution_count": 30,
   "metadata": {},
   "outputs": [],
   "source": [
    "##define 100 random samples of values from a poisson distribution with lamda (and mean)=88\n",
    "pois_container=[]\n",
    "lamda=mean\n",
    "\n",
    "for i in range(100):\n",
    "    size=int(np.random.rand()*1990+10)\n",
    "    pois= np.random.poisson(lamda, size)\n",
    "    pois_container.append(pois)"
   ]
  },
  {
   "cell_type": "code",
   "execution_count": 37,
   "metadata": {},
   "outputs": [
    {
     "name": "stdout",
     "output_type": "stream",
     "text": [
      "100\n",
      "[ 80  95  84  90  88  90  87  90 108  89  80  74 112  71  65  96  90  89\n",
      "  93 104  98  99  90  97 102  84  89  84  82  92  69 102  80  84  83  92\n",
      "  80  88  76  98  85  90  94  96  80 105  95  99  92  93  79  81  87  92\n",
      " 104  77  85  84 100  95  71  83  86  78  74  74  84 108  91  78 100  89\n",
      "  87  92  83  80  85  89 102  86  92  77  90  88  89  87  72  84  99  89\n",
      "  95 100  85 101  98  75  80 101  90  95  75 111  90  88  85  99  83  94\n",
      "  91  83 108  86  80  76  86  88  80  84  69  78  86  88  90  83  88  89\n",
      "  93  87  92  89  90  83  85  91  79  89  83  84  83  95  90  87  92  94\n",
      " 104  81  81  84  81  91  92  90  80 104  82  89  89  86  84  94  94  66\n",
      "  85  93  98  72  82  95  79  91  84  85  97  87  76  93  86  82  91  79\n",
      "  85  83  98  82  92 106  82  72 103  81  75  94  83  87  87  80 104  90\n",
      "  86  68  83  84  74  83  92  92  97  74  93  89  86  88  98  92  75  82\n",
      "  85  93  82  98  94 104  97  80]\n"
     ]
    }
   ],
   "source": [
    "#confirm above\n",
    "print(len(pois_container))\n",
    "print(pois_container[4])"
   ]
  },
  {
   "cell_type": "code",
   "execution_count": 38,
   "metadata": {},
   "outputs": [],
   "source": [
    "#add means of all samples to a list\n",
    "pois_means=[]\n",
    "\n",
    "for n in range(len(pois_container)):\n",
    "    pois_means.append(pois_container[n].mean())"
   ]
  },
  {
   "cell_type": "code",
   "execution_count": 39,
   "metadata": {},
   "outputs": [
    {
     "data": {
      "text/plain": [
       "Text(0.5,1,'Sample Mean vs Sample Size')"
      ]
     },
     "execution_count": 39,
     "metadata": {},
     "output_type": "execute_result"
    },
    {
     "name": "stderr",
     "output_type": "stream",
     "text": [
      "/usr/local/Anaconda3-5.0.0-Linux-x86_64/envs/PUI2016_Python3/lib/python3.5/site-packages/matplotlib/font_manager.py:1316: UserWarning: findfont: Font family ['sans-serif'] not found. Falling back to DejaVu Sans\n",
      "  (prop.get_family(), self.defaultFamily[fontext]))\n"
     ]
    },
    {
     "data": {
      "image/png": "[encoded data removed]",
      "text/plain": [
       "<matplotlib.figure.Figure at 0x7f51d803b9b0>"
      ]
     },
     "metadata": {},
     "output_type": "display_data"
    }
   ],
   "source": [
    "#create an axis object\n",
    "axpois=pl.figure().add_subplot(111)\n",
    "\n",
    "#calculate the mean for all of the members of the list\n",
    "for n in pois_container:\n",
    "    axpois.plot(len(n),n.mean(), '.')\n",
    "    axpois.plot([0,2000], [88,88], '-')\n",
    "axpois.set_ylabel('sample mean', fontsize = 12)\n",
    "axpois.set_xlabel('N', fontsize = 12)\n",
    "axpois.set_title('Sample Mean vs Sample Size', fontsize=20)"
   ]
  },
  {
   "cell_type": "markdown",
   "metadata": {},
   "source": [
    "Figure 2: The above plot shows sample means from 100 poisson distribution samples ranging in size from 10 to 2000 compared to the size of the sample. As described Central Limit Theorem, you can see that as the sample size increases the mean approaches the population mean of 88."
   ]
  },
  {
   "cell_type": "markdown",
   "metadata": {},
   "source": [
    "# Do it for the Binomial distribution"
   ]
  },
  {
   "cell_type": "code",
   "execution_count": 42,
   "metadata": {},
   "outputs": [],
   "source": [
    "##define 100 random samples of values from a binomial distribution with n=176 p=.5 (therefore mean=88)\n",
    "bi_container=[]\n",
    "trials=176\n",
    "prob=.5\n",
    "\n",
    "for i in range(100):\n",
    "    size=int(np.random.rand()*1990+10)\n",
    "    bi= np.random.binomial(trials, prob, size)\n",
    "    bi_container.append(bi)"
   ]
  },
  {
   "cell_type": "code",
   "execution_count": 44,
   "metadata": {},
   "outputs": [],
   "source": [
    "#add means of all samples to a list\n",
    "bi_means=[]\n",
    "\n",
    "for n in range(len(bi_container)):\n",
    "    bi_means.append(bi_container[n].mean())"
   ]
  },
  {
   "cell_type": "code",
   "execution_count": 46,
   "metadata": {
    "scrolled": true
   },
   "outputs": [
    {
     "data": {
      "text/plain": [
       "Text(0.5,1,'Sample Mean vs Sample Size')"
      ]
     },
     "execution_count": 46,
     "metadata": {},
     "output_type": "execute_result"
    },
    {
     "name": "stderr",
     "output_type": "stream",
     "text": [
      "/usr/local/Anaconda3-5.0.0-Linux-x86_64/envs/PUI2016_Python3/lib/python3.5/site-packages/matplotlib/font_manager.py:1316: UserWarning: findfont: Font family ['sans-serif'] not found. Falling back to DejaVu Sans\n",
      "  (prop.get_family(), self.defaultFamily[fontext]))\n"
     ]
    },
    {
     "data": {
      "image/png": "[encoded data removed]",
      "text/plain": [
       "<matplotlib.figure.Figure at 0x7f51d851a160>"
      ]
     },
     "metadata": {},
     "output_type": "display_data"
    }
   ],
   "source": [
    "#create an axis object\n",
    "axbi=pl.figure().add_subplot(111)\n",
    "\n",
    "#calculate the mean for all of the members of the list\n",
    "for n in bi_container:\n",
    "    axbi.plot(len(n),n.mean(), '.')\n",
    "    axbi.plot([0,2000], [88,88], '-')\n",
    "axbi.set_ylabel('sample mean', fontsize = 12)\n",
    "axbi.set_xlabel('N', fontsize = 12)\n",
    "axbi.set_title('Sample Mean vs Sample Size', fontsize=20)"
   ]
  },
  {
   "cell_type": "markdown",
   "metadata": {},
   "source": [
    "Figure 3: The above plot shows sample means from 100 samples from binomial distributions ranging in size from 10 to 2000 compared to the size of the sample. As described Central Limit Theorem, you can see that as the sample size increases the mean approaches the population mean of 88."
   ]
  },
  {
   "cell_type": "markdown",
   "metadata": {},
   "source": [
    "# Do it for another distribution"
   ]
  },
  {
   "cell_type": "code",
   "execution_count": 52,
   "metadata": {},
   "outputs": [],
   "source": [
    "##define 100 random samples of values from an exponential distribution\n",
    "exp_container=[]\n",
    "beta=1/88\n",
    "\n",
    "for i in range(100):\n",
    "    size=int(np.random.rand()*1990+10)\n",
    "    exp= np.random.exponential(beta, size)\n",
    "    exp_container.append(exp)"
   ]
  },
  {
   "cell_type": "code",
   "execution_count": 53,
   "metadata": {},
   "outputs": [],
   "source": [
    "#add means of all samples to a list\n",
    "exp_means=[]\n",
    "\n",
    "for n in range(len(exp_container)):\n",
    "    exp_means.append(exp_container[n].mean())"
   ]
  },
  {
   "cell_type": "code",
   "execution_count": 56,
   "metadata": {},
   "outputs": [
    {
     "data": {
      "text/plain": [
       "Text(0.5,1,'Sample Mean vs Sample Size')"
      ]
     },
     "execution_count": 56,
     "metadata": {},
     "output_type": "execute_result"
    },
    {
     "name": "stderr",
     "output_type": "stream",
     "text": [
      "/usr/local/Anaconda3-5.0.0-Linux-x86_64/envs/PUI2016_Python3/lib/python3.5/site-packages/matplotlib/font_manager.py:1316: UserWarning: findfont: Font family ['sans-serif'] not found. Falling back to DejaVu Sans\n",
      "  (prop.get_family(), self.defaultFamily[fontext]))\n"
     ]
    },
    {
     "data": {
      "image/png": "[encoded data removed]",
      "text/plain": [
       "<matplotlib.figure.Figure at 0x7f51d29a7e80>"
      ]
     },
     "metadata": {},
     "output_type": "display_data"
    }
   ],
   "source": [
    "#create an axis object\n",
    "axexp=pl.figure().add_subplot(111)\n",
    "\n",
    "#calculate the mean for all of the members of the list\n",
    "for n in bi_container:\n",
    "    axexp.plot(len(n),n.mean(), '.')\n",
    "    axexp.plot([0,2000], [88,88], '-')\n",
    "axexp.set_ylabel('sample mean', fontsize = 12)\n",
    "axexp.set_xlabel('N', fontsize = 12)\n",
    "axexp.set_title('Sample Mean vs Sample Size', fontsize=20)"
   ]
  },
  {
   "cell_type": "markdown",
   "metadata": {},
   "source": [
    "Figure 4: The above plot shows sample means from 100 samples from exponential distributions ranging in size from 10 to 2000 compared to the size of the sample. As described Central Limit Theorem, you can see that as the sample size increases the mean approaches the population mean of 88."
   ]
  },
  {
   "cell_type": "code",
   "execution_count": null,
   "metadata": {},
   "outputs": [],
   "source": []
  }
 ],
 "metadata": {
  "anaconda-cloud": {},
  "kernelspec": {
   "display_name": "PUI2016_Python3",
   "language": "python",
   "name": "pui2016_python3"
  },
  "language_info": {
   "codemirror_mode": {
    "name": "ipython",
    "version": 3
   },
   "file_extension": ".py",
   "mimetype": "text/x-python",
   "name": "python",
   "nbconvert_exporter": "python",
   "pygments_lexer": "ipython3",
   "version": "3.5.4"
  }
 },
 "nbformat": 4,
 "nbformat_minor": 1
}
